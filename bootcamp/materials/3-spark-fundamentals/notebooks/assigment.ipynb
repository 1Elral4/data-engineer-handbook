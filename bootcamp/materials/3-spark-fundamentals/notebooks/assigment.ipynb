{
 "cells": [
  {
   "cell_type": "code",
   "execution_count": 1,
   "id": "d8f7d32b-93a2-4b35-8f55-5c5c50bd56c7",
   "metadata": {},
   "outputs": [],
   "source": [
    "from pyspark.sql import SparkSession\n",
    "from pyspark.sql.functions import broadcast\n"
   ]
  },
  {
   "cell_type": "code",
   "execution_count": 2,
   "id": "7a6e85df-dbf0-4259-955c-42146390f05c",
   "metadata": {},
   "outputs": [
    {
     "name": "stderr",
     "output_type": "stream",
     "text": [
      "25/08/02 00:47:12 WARN SparkSession: Using an existing Spark session; only runtime SQL configurations will take effect.\n"
     ]
    }
   ],
   "source": [
    "# start the spark session\n",
    "spark = (SparkSession\n",
    "         .builder\n",
    "         .appName(\"Assignment\")\n",
    "         .getOrCreate())"
   ]
  },
  {
   "cell_type": "code",
   "execution_count": 3,
   "id": "ba9757bb-8a85-424c-a5c7-5805fa5825aa",
   "metadata": {},
   "outputs": [],
   "source": [
    "# disable automatic broadcast join\n",
    "spark.conf.set(\"spark.sql.autoBroadcastJoinThreshold\", \"-1\")\n",
    "\n",
    "# Align Shuffle Partitions to Bucket Count\n",
    "spark.conf.set(\"spark.sql.shuffle.partitions\", \"16\")"
   ]
  },
  {
   "cell_type": "code",
   "execution_count": 4,
   "id": "2ba9010d-13b2-4301-b792-5f3a64253169",
   "metadata": {},
   "outputs": [
    {
     "name": "stderr",
     "output_type": "stream",
     "text": [
      "                                                                                "
     ]
    }
   ],
   "source": [
    "# tell the location of each .csv file\n",
    "dir_matches = \"/home/iceberg/data/matches.csv\"\n",
    "dir_match_details = \"/home/iceberg/data/match_details.csv\"\n",
    "dir_medals_matches_players = \"/home/iceberg/data/medals_matches_players.csv\"\n",
    "dir_medals = \"/home/iceberg/data/medals.csv\"\n",
    "dir_maps = \"/home/iceberg/data/maps.csv\"\n",
    "\n",
    "# read csv, create dataframes\n",
    "matches_df = spark.read.csv(dir_matches, header=True, inferSchema=True)\n",
    "match_details_df = spark.read.csv(dir_match_details, header=True, inferSchema=True)\n",
    "medals_matches_players_df = spark.read.csv(dir_medals_matches_players, header=True, inferSchema=True)\n",
    "medals_df = spark.read.csv(dir_medals, header=True, inferSchema=True)\n",
    "maps_df = spark.read.csv(dir_maps, header=True, inferSchema=True)\n",
    "\n",
    "\n"
   ]
  },
  {
   "cell_type": "code",
   "execution_count": 5,
   "id": "73e36ea7-87c1-475a-90bd-cc2a8742ed15",
   "metadata": {},
   "outputs": [],
   "source": [
    "dfs = [matches_df, match_details_df, medals_matches_players_df, medals_df, maps_df]"
   ]
  },
  {
   "cell_type": "code",
   "execution_count": 6,
   "id": "b3c214f1-9de0-482f-ab8e-b08bdcef37c9",
   "metadata": {},
   "outputs": [],
   "source": [
    "def descriptor(df_list):\n",
    "    for df in df_list:\n",
    "        df.printSchema()\n",
    "        print(f\"Rows: {df.count()}, Columns: {len(df.columns)}\")\n",
    "        df.show(5)"
   ]
  },
  {
   "cell_type": "code",
   "execution_count": 7,
   "id": "8a76027c-00f8-4240-87cf-bbe27f49eada",
   "metadata": {},
   "outputs": [
    {
     "name": "stdout",
     "output_type": "stream",
     "text": [
      "root\n",
      " |-- match_id: string (nullable = true)\n",
      " |-- mapid: string (nullable = true)\n",
      " |-- is_team_game: boolean (nullable = true)\n",
      " |-- playlist_id: string (nullable = true)\n",
      " |-- game_variant_id: string (nullable = true)\n",
      " |-- is_match_over: boolean (nullable = true)\n",
      " |-- completion_date: timestamp (nullable = true)\n",
      " |-- match_duration: string (nullable = true)\n",
      " |-- game_mode: string (nullable = true)\n",
      " |-- map_variant_id: string (nullable = true)\n",
      "\n",
      "Rows: 24025, Columns: 10\n",
      "+--------------------+--------------------+------------+--------------------+--------------------+-------------+-------------------+--------------+---------+--------------------+\n",
      "|            match_id|               mapid|is_team_game|         playlist_id|     game_variant_id|is_match_over|    completion_date|match_duration|game_mode|      map_variant_id|\n",
      "+--------------------+--------------------+------------+--------------------+--------------------+-------------+-------------------+--------------+---------+--------------------+\n",
      "|11de1a94-8d07-416...|c7edbf0f-f206-11e...|        true|f72e0ef0-7c4a-430...|1e473914-46e4-408...|         true|2016-02-22 00:00:00|          NULL|     NULL|                NULL|\n",
      "|d3643e71-3e51-43e...|cb914b9e-f206-11e...|       false|d0766624-dbd7-453...|257a305e-4dd3-41f...|         true|2016-02-14 00:00:00|          NULL|     NULL|                NULL|\n",
      "|d78d2aae-36e4-48a...|c7edbf0f-f206-11e...|        true|f72e0ef0-7c4a-430...|1e473914-46e4-408...|         true|2016-03-24 00:00:00|          NULL|     NULL|55e5ee2e-88df-465...|\n",
      "|b440069e-ec5f-4f5...|c7edbf0f-f206-11e...|        true|f72e0ef0-7c4a-430...|1e473914-46e4-408...|         true|2015-12-23 00:00:00|          NULL|     NULL|ec3eef73-13e3-4d4...|\n",
      "|1dd475fc-ee6b-4e1...|c93d708f-f206-11e...|        true|0e39ead4-383b-445...|42f97cca-2cb4-497...|         true|2016-04-07 00:00:00|          NULL|     NULL|                NULL|\n",
      "+--------------------+--------------------+------------+--------------------+--------------------+-------------+-------------------+--------------+---------+--------------------+\n",
      "only showing top 5 rows\n",
      "\n",
      "root\n",
      " |-- match_id: string (nullable = true)\n",
      " |-- player_gamertag: string (nullable = true)\n",
      " |-- previous_spartan_rank: integer (nullable = true)\n",
      " |-- spartan_rank: integer (nullable = true)\n",
      " |-- previous_total_xp: integer (nullable = true)\n",
      " |-- total_xp: integer (nullable = true)\n",
      " |-- previous_csr_tier: integer (nullable = true)\n",
      " |-- previous_csr_designation: integer (nullable = true)\n",
      " |-- previous_csr: integer (nullable = true)\n",
      " |-- previous_csr_percent_to_next_tier: integer (nullable = true)\n",
      " |-- previous_csr_rank: integer (nullable = true)\n",
      " |-- current_csr_tier: integer (nullable = true)\n",
      " |-- current_csr_designation: integer (nullable = true)\n",
      " |-- current_csr: integer (nullable = true)\n",
      " |-- current_csr_percent_to_next_tier: integer (nullable = true)\n",
      " |-- current_csr_rank: integer (nullable = true)\n",
      " |-- player_rank_on_team: integer (nullable = true)\n",
      " |-- player_finished: boolean (nullable = true)\n",
      " |-- player_average_life: string (nullable = true)\n",
      " |-- player_total_kills: integer (nullable = true)\n",
      " |-- player_total_headshots: integer (nullable = true)\n",
      " |-- player_total_weapon_damage: double (nullable = true)\n",
      " |-- player_total_shots_landed: integer (nullable = true)\n",
      " |-- player_total_melee_kills: integer (nullable = true)\n",
      " |-- player_total_melee_damage: double (nullable = true)\n",
      " |-- player_total_assassinations: integer (nullable = true)\n",
      " |-- player_total_ground_pound_kills: integer (nullable = true)\n",
      " |-- player_total_shoulder_bash_kills: integer (nullable = true)\n",
      " |-- player_total_grenade_damage: double (nullable = true)\n",
      " |-- player_total_power_weapon_damage: double (nullable = true)\n",
      " |-- player_total_power_weapon_grabs: integer (nullable = true)\n",
      " |-- player_total_deaths: integer (nullable = true)\n",
      " |-- player_total_assists: integer (nullable = true)\n",
      " |-- player_total_grenade_kills: integer (nullable = true)\n",
      " |-- did_win: integer (nullable = true)\n",
      " |-- team_id: integer (nullable = true)\n",
      "\n",
      "Rows: 151761, Columns: 36\n"
     ]
    },
    {
     "name": "stderr",
     "output_type": "stream",
     "text": [
      "25/07/30 02:11:02 WARN SparkStringUtils: Truncated the string representation of a plan since it was too large. This behavior can be adjusted by setting 'spark.sql.debug.maxToStringFields'.\n"
     ]
    },
    {
     "name": "stdout",
     "output_type": "stream",
     "text": [
      "+--------------------+---------------+---------------------+------------+-----------------+--------+-----------------+------------------------+------------+---------------------------------+-----------------+----------------+-----------------------+-----------+--------------------------------+----------------+-------------------+---------------+-------------------+------------------+----------------------+--------------------------+-------------------------+------------------------+-------------------------+---------------------------+-------------------------------+--------------------------------+---------------------------+--------------------------------+-------------------------------+-------------------+--------------------+--------------------------+-------+-------+\n",
      "|            match_id|player_gamertag|previous_spartan_rank|spartan_rank|previous_total_xp|total_xp|previous_csr_tier|previous_csr_designation|previous_csr|previous_csr_percent_to_next_tier|previous_csr_rank|current_csr_tier|current_csr_designation|current_csr|current_csr_percent_to_next_tier|current_csr_rank|player_rank_on_team|player_finished|player_average_life|player_total_kills|player_total_headshots|player_total_weapon_damage|player_total_shots_landed|player_total_melee_kills|player_total_melee_damage|player_total_assassinations|player_total_ground_pound_kills|player_total_shoulder_bash_kills|player_total_grenade_damage|player_total_power_weapon_damage|player_total_power_weapon_grabs|player_total_deaths|player_total_assists|player_total_grenade_kills|did_win|team_id|\n",
      "+--------------------+---------------+---------------------+------------+-----------------+--------+-----------------+------------------------+------------+---------------------------------+-----------------+----------------+-----------------------+-----------+--------------------------------+----------------+-------------------+---------------+-------------------+------------------+----------------------+--------------------------+-------------------------+------------------------+-------------------------+---------------------------+-------------------------------+--------------------------------+---------------------------+--------------------------------+-------------------------------+-------------------+--------------------+--------------------------+-------+-------+\n",
      "|71d79b23-4143-435...|      taterbase|                    5|           5|            12537|   13383|                1|                       3|           0|                               98|             NULL|               2|                      3|          0|                              26|            NULL|                  4|          false|        PT14.81149S|                 6|                     4|                     255.0|                       28|                       0|                      0.0|                          0|                              0|                               0|                        0.0|                             0.0|                              0|                 13|                   1|                         0|      1|      1|\n",
      "|71d79b23-4143-435...| SuPeRSaYaInG0D|                   18|          18|           131943|  132557|                2|                       3|           0|                                2|             NULL|               1|                      3|          0|                              76|            NULL|                  7|          false|      PT11.2990845S|                 7|                     3|        350.58792304992676|                       49|                       1|                     45.0|                          0|                              0|                               0|                        0.0|                             0.0|                              0|                 18|                   2|                         0|      0|      0|\n",
      "|71d79b23-4143-435...|       EcZachly|                   21|          21|           168811|  169762|                2|                       5|           0|                               94|             NULL|               3|                      5|          0|                              24|            NULL|                  3|          false|      PT19.1357063S|                12|                    12|                     625.0|                       43|                       0|                      0.0|                          0|                              0|                               0|                        0.0|                             0.0|                              0|                 10|                   4|                         0|      1|      1|\n",
      "|71d79b23-4143-435...|    johnsnake04|                   14|          14|            64073|   64639|             NULL|                    NULL|        NULL|                             NULL|             NULL|            NULL|                   NULL|       NULL|                            NULL|            NULL|                  6|          false|      PT21.1521599S|                13|                    13|                     605.0|                       24|                       0|                      0.0|                          0|                              0|                               0|                        0.0|                             0.0|                              0|                  9|                   2|                         0|      0|      0|\n",
      "|71d79b23-4143-435...| Super Mac Bros|                   26|          26|           243425|  244430|                1|                       5|           0|                               86|             NULL|               2|                      5|          0|                               8|            NULL|                  2|          false|      PT12.8373793S|                13|                    12|                     595.0|                       32|                       1|       20.004501342773438|                          0|                              0|                               0|                        0.0|                             0.0|                              0|                 15|                   2|                         0|      1|      1|\n",
      "+--------------------+---------------+---------------------+------------+-----------------+--------+-----------------+------------------------+------------+---------------------------------+-----------------+----------------+-----------------------+-----------+--------------------------------+----------------+-------------------+---------------+-------------------+------------------+----------------------+--------------------------+-------------------------+------------------------+-------------------------+---------------------------+-------------------------------+--------------------------------+---------------------------+--------------------------------+-------------------------------+-------------------+--------------------+--------------------------+-------+-------+\n",
      "only showing top 5 rows\n",
      "\n",
      "root\n",
      " |-- match_id: string (nullable = true)\n",
      " |-- player_gamertag: string (nullable = true)\n",
      " |-- medal_id: long (nullable = true)\n",
      " |-- count: integer (nullable = true)\n",
      "\n",
      "Rows: 755229, Columns: 4\n",
      "+--------------------+---------------+----------+-----+\n",
      "|            match_id|player_gamertag|  medal_id|count|\n",
      "+--------------------+---------------+----------+-----+\n",
      "|009fdac5-e15c-47c...|       EcZachly|3261908037|    7|\n",
      "|009fdac5-e15c-47c...|       EcZachly| 824733727|    2|\n",
      "|009fdac5-e15c-47c...|       EcZachly|2078758684|    2|\n",
      "|009fdac5-e15c-47c...|       EcZachly|2782465081|    2|\n",
      "|9169d1a3-955c-4ea...|       EcZachly|3001183151|    1|\n",
      "+--------------------+---------------+----------+-----+\n",
      "only showing top 5 rows\n",
      "\n",
      "root\n",
      " |-- medal_id: long (nullable = true)\n",
      " |-- sprite_uri: string (nullable = true)\n",
      " |-- sprite_left: integer (nullable = true)\n",
      " |-- sprite_top: integer (nullable = true)\n",
      " |-- sprite_sheet_width: integer (nullable = true)\n",
      " |-- sprite_sheet_height: integer (nullable = true)\n",
      " |-- sprite_width: integer (nullable = true)\n",
      " |-- sprite_height: integer (nullable = true)\n",
      " |-- classification: string (nullable = true)\n",
      " |-- description: string (nullable = true)\n",
      " |-- name: string (nullable = true)\n",
      " |-- difficulty: integer (nullable = true)\n",
      "\n",
      "Rows: 183, Columns: 12\n",
      "+----------+--------------------+-----------+----------+------------------+-------------------+------------+-------------+--------------+--------------------+--------------+----------+\n",
      "|  medal_id|          sprite_uri|sprite_left|sprite_top|sprite_sheet_width|sprite_sheet_height|sprite_width|sprite_height|classification|         description|          name|difficulty|\n",
      "+----------+--------------------+-----------+----------+------------------+-------------------+------------+-------------+--------------+--------------------+--------------+----------+\n",
      "|2315448068|                NULL|       NULL|      NULL|              NULL|               NULL|        NULL|         NULL|          NULL|                NULL|          NULL|      NULL|\n",
      "|3565441934|                NULL|       NULL|      NULL|              NULL|               NULL|        NULL|         NULL|          NULL|                NULL|          NULL|      NULL|\n",
      "|4162659350|https://content.h...|        750|       750|                74|                 74|        1125|          899|      Breakout|Kill the last ene...| Buzzer Beater|        45|\n",
      "|1573153198|https://content.h...|          0|       300|                74|                 74|        1125|          899|      Breakout|Survive a one-on-...|    Vanquisher|        30|\n",
      "| 298813630|https://content.h...|          0|       825|                74|                 74|        1125|          899|         Style|Kill an enemy wit...|Spartan Charge|       135|\n",
      "+----------+--------------------+-----------+----------+------------------+-------------------+------------+-------------+--------------+--------------------+--------------+----------+\n",
      "only showing top 5 rows\n",
      "\n",
      "root\n",
      " |-- mapid: string (nullable = true)\n",
      " |-- name: string (nullable = true)\n",
      " |-- description: string (nullable = true)\n",
      "\n",
      "Rows: 40, Columns: 3\n",
      "+--------------------+-------------------+--------------------+\n",
      "|               mapid|               name|         description|\n",
      "+--------------------+-------------------+--------------------+\n",
      "|c93d708f-f206-11e...|              Urban|Andesia was the c...|\n",
      "|cb251c51-f206-11e...|     Raid on Apex 7|This unbroken rin...|\n",
      "|c854e54f-f206-11e...|March on Stormbreak|                NULL|\n",
      "|c8d69870-f206-11e...| Escape from A.R.C.|Scientists flocke...|\n",
      "|73ed1fd0-45e5-4bb...|             Osiris|                NULL|\n",
      "+--------------------+-------------------+--------------------+\n",
      "only showing top 5 rows\n",
      "\n"
     ]
    }
   ],
   "source": [
    "# some exploration on the data\n",
    "descriptor(dfs)"
   ]
  },
  {
   "cell_type": "code",
   "execution_count": 8,
   "id": "18649d0b-2161-4740-b9d5-3e1a5404f5bb",
   "metadata": {},
   "outputs": [
    {
     "name": "stdout",
     "output_type": "stream",
     "text": [
      "+----------+----------+-----------+----------+------------------+-------------------+------------+-------------+--------------+-----------+----+----------+--------------------+-------------------+--------------------+\n",
      "|  medal_id|sprite_uri|sprite_left|sprite_top|sprite_sheet_width|sprite_sheet_height|sprite_width|sprite_height|classification|description|name|difficulty|               mapid|               name|         description|\n",
      "+----------+----------+-----------+----------+------------------+-------------------+------------+-------------+--------------+-----------+----+----------+--------------------+-------------------+--------------------+\n",
      "|2315448068|      NULL|       NULL|      NULL|              NULL|               NULL|        NULL|         NULL|          NULL|       NULL|NULL|      NULL|c93d708f-f206-11e...|              Urban|Andesia was the c...|\n",
      "|2315448068|      NULL|       NULL|      NULL|              NULL|               NULL|        NULL|         NULL|          NULL|       NULL|NULL|      NULL|cb251c51-f206-11e...|     Raid on Apex 7|This unbroken rin...|\n",
      "|2315448068|      NULL|       NULL|      NULL|              NULL|               NULL|        NULL|         NULL|          NULL|       NULL|NULL|      NULL|c854e54f-f206-11e...|March on Stormbreak|                NULL|\n",
      "|2315448068|      NULL|       NULL|      NULL|              NULL|               NULL|        NULL|         NULL|          NULL|       NULL|NULL|      NULL|c8d69870-f206-11e...| Escape from A.R.C.|Scientists flocke...|\n",
      "|2315448068|      NULL|       NULL|      NULL|              NULL|               NULL|        NULL|         NULL|          NULL|       NULL|NULL|      NULL|73ed1fd0-45e5-4bb...|             Osiris|                NULL|\n",
      "+----------+----------+-----------+----------+------------------+-------------------+------------+-------------+--------------+-----------+----+----------+--------------------+-------------------+--------------------+\n",
      "only showing top 5 rows\n",
      "\n"
     ]
    }
   ],
   "source": [
    "# explicitly perform a broadcast join\n",
    "result_df = medals_df.join(broadcast(maps_df))\n",
    "result_df.show(5)"
   ]
  },
  {
   "cell_type": "code",
   "execution_count": 10,
   "id": "2732147d-9c41-4156-9751-28e57eacd1e6",
   "metadata": {},
   "outputs": [
    {
     "data": {
      "text/plain": [
       "24025"
      ]
     },
     "execution_count": 10,
     "metadata": {},
     "output_type": "execute_result"
    }
   ],
   "source": [
    "matches_df.select('match_id', 'is_team_game', 'playlist_id', 'completion_date').count()"
   ]
  },
  {
   "cell_type": "markdown",
   "id": "c3fd1967-ed64-4735-8c5b-3af43cc7cf69",
   "metadata": {},
   "source": [
    "## Performing a bucket join"
   ]
  },
  {
   "cell_type": "markdown",
   "id": "94b1de7f-64fe-44b9-80f1-d07b242fd2df",
   "metadata": {},
   "source": [
    "To perform a bucket join there are steps to follow, in preparation for it:\n",
    "1) DDL the tables\n",
    "2) Repartition the data on different buckets, < 16\n",
    "3) Write the repartitioned data into your tables\n",
    "4) Load the data from the tables into dataframes\n",
    "5) Perform the bucket join of your tables and verify in your execution that there is no shuffling"
   ]
  },
  {
   "cell_type": "code",
   "execution_count": 45,
   "id": "32014363-1579-44e4-a093-a6b38f27bc6b",
   "metadata": {},
   "outputs": [
    {
     "name": "stderr",
     "output_type": "stream",
     "text": [
      "                                                                                "
     ]
    }
   ],
   "source": [
    "spark.sql(\"\"\"DROP TABLE IF EXISTS bootcamp.matches_bucketed\"\"\")\n",
    "\n",
    "matches_bucketedDDL = \"\"\"\n",
    "CREATE TABLE IF NOT EXISTS bootcamp.matches_bucketed (\n",
    "     match_id STRING,\n",
    "     map_id STRING,\n",
    "     is_team_game BOOLEAN,\n",
    "     playlist_id STRING,\n",
    "     completion_date TIMESTAMP\n",
    " )\n",
    " USING iceberg\n",
    " PARTITIONED BY (bucket(16, match_id));\n",
    " \"\"\"\n",
    "spark.sql(matches_bucketedDDL)\n",
    "\n",
    "\n",
    "# Repartition to improve shuffle handling even on small data\n",
    "matches_df = matches_df.repartition(16, \"match_id\")  # match bucket count\n",
    "# print(matches_df.rdd.getNumPartitions())  # Should now say 16\n",
    "\n",
    "# write df to a table\n",
    "# selectExpr solves the issue of renaming here\n",
    "(matches_df.selectExpr('match_id', 'mapid as map_id', 'is_team_game', 'playlist_id', 'completion_date')\n",
    "   .write\n",
    "   .format(\"iceberg\")\n",
    "   .mode(\"append\")\n",
    "   .save(\"bootcamp.matches_bucketed\"))\n",
    "\n"
   ]
  },
  {
   "cell_type": "code",
   "execution_count": 17,
   "id": "eacf7741-8245-40b2-ada4-250cbfda54b0",
   "metadata": {},
   "outputs": [
    {
     "name": "stderr",
     "output_type": "stream",
     "text": [
      "                                                                                "
     ]
    }
   ],
   "source": [
    "spark.sql(\"\"\"DROP TABLE IF EXISTS bootcamp.match_details_bucketed\"\"\")\n",
    "\n",
    "match_detaials_bucketedDDL = \"\"\"\n",
    "CREATE TABLE IF NOT EXISTS bootcamp.match_details_bucketed (\n",
    "     match_id STRING,\n",
    "     player_gamertag STRING,\n",
    "     player_total_kills INTEGER,\n",
    "     player_total_deaths INTEGER\n",
    " )\n",
    " USING iceberg\n",
    " PARTITIONED BY (bucket(16, match_id));\n",
    " \"\"\"\n",
    "spark.sql(match_detaials_bucketedDDL)\n",
    "\n",
    "\n",
    "# Repartition to improve shuffle handling even on small data\n",
    "match_details_df = match_details_df.repartition(16, \"match_id\")  # match bucket count\n",
    "# print(matches_df.rdd.getNumPartitions())  # Should now say 16\n",
    "\n",
    "# write df to a table\n",
    "(match_details_df.select('match_id', 'player_gamertag', 'player_total_kills', 'player_total_deaths')\n",
    "   .write\n",
    "   .format(\"iceberg\")\n",
    "   .mode(\"append\")\n",
    "   .save(\"bootcamp.match_details_bucketed\"))\n"
   ]
  },
  {
   "cell_type": "code",
   "execution_count": 43,
   "id": "ec97be0a-a05f-4f6e-83ab-d1d1524b69bd",
   "metadata": {},
   "outputs": [
    {
     "name": "stderr",
     "output_type": "stream",
     "text": [
      "                                                                                "
     ]
    }
   ],
   "source": [
    "spark.sql(\"\"\"DROP TABLE IF EXISTS bootcamp.medals_matches_players_bucketed\"\"\")\n",
    "\n",
    "medals_matches_playersbucketedDDL = \"\"\"\n",
    "CREATE TABLE IF NOT EXISTS bootcamp.medals_matches_players_bucketed (\n",
    "     match_id STRING,\n",
    "     player_gamertag STRING,\n",
    "     medal_id BIGINT,\n",
    "     medal_count INTEGER\n",
    " )\n",
    " USING iceberg\n",
    " PARTITIONED BY (bucket(16, match_id));\n",
    " \"\"\"\n",
    "spark.sql(medals_matches_playersbucketedDDL)\n",
    "\n",
    "# Repartition to improve shuffle handling even on small data\n",
    "medals_matches_players_df = medals_matches_players_df.repartition(16, \"match_id\")  # match bucket count\n",
    "# print(matches_df.rdd.getNumPartitions())  # Should now say 16\n",
    "\n",
    "# write df to a table\n",
    "(medals_matches_players_df.selectExpr('match_id', 'player_gamertag', 'medal_id', 'count as medal_count')\n",
    "   .write\n",
    "   .format(\"iceberg\")\n",
    "   .mode(\"append\")\n",
    "   .save(\"bootcamp.medals_matches_players_bucketed\"))"
   ]
  },
  {
   "cell_type": "markdown",
   "id": "6fcd4ff9-0596-436c-96f5-94e1df90696c",
   "metadata": {},
   "source": [
    "Bucketed joins only work when data is written to disk as a bucketed table, because Spark only optimizes joins on bucketed + saved data.\n",
    "Confirm bucket-based joins in the Spark UI → SQL → Physical Plan — it should say SortMergeJoin without shuffle on both sides.\n",
    "    \n",
    "Spark will skip shuffling if all bucketed tables:\n",
    "\n",
    "    Use the same number of buckets,\n",
    "    Use the same join key,\n",
    "    Are written with the same sort order (optional, but helps).\n",
    "\n"
   ]
  },
  {
   "cell_type": "code",
   "execution_count": 5,
   "id": "ab3ffe66-3800-4cd2-92a2-a97f884c4eb6",
   "metadata": {},
   "outputs": [],
   "source": [
    "# load the bucketed data\n",
    "df1_bucketed = spark.table(\"bootcamp.matches_bucketed\")\n",
    "df2_bucketed = spark.table(\"bootcamp.match_details_bucketed\")\n",
    "df3_bucketed = spark.table(\"bootcamp.medals_matches_players_bucketed\")\n",
    "\n",
    "\n",
    "# performing the bucket joins, one at time.\n",
    "# selecting unique columns to avoid duplicates downstream, really important step\n",
    "df12 = (df1_bucketed.join(df2_bucketed, \"match_id\")\n",
    "                    .select(df1_bucketed[\"*\"], \n",
    "                            df2_bucketed[\"player_gamertag\"], \n",
    "                            df2_bucketed[\"player_total_kills\"],\n",
    "                            df2_bucketed[\"player_total_deaths\"])\n",
    "                            \n",
    "       )\n",
    "\n",
    "# df12.explain()\n",
    "\n",
    "df_all = (df12.join(df3_bucketed, (df12.match_id == df3_bucketed.match_id) \n",
    "                    & (df12.player_gamertag == df3_bucketed.player_gamertag))\n",
    "              .select(df12[\"*\"],\n",
    "                      df3_bucketed[\"medal_id\"],\n",
    "                      df3_bucketed[\"medal_count\"])\n",
    "         )\n",
    "# df_all.explain()\n",
    "\n",
    "# Look for:\n",
    "    # SortMergeJoin — which is fine for bucket joins\n",
    "    # No Exchange or Shuffle steps before the join inputs\n",
    "    # Optional: InputPartitioning showing HashPartitioning(match_id, 16)\n",
    "\n",
    "# all is good"
   ]
  },
  {
   "cell_type": "markdown",
   "id": "13b11582-13bc-4f42-9034-4e557598d4c1",
   "metadata": {},
   "source": [
    "## Analytical queries"
   ]
  },
  {
   "cell_type": "code",
   "execution_count": 6,
   "id": "66cd31d6-4c3e-4066-ba6c-1c7da108defd",
   "metadata": {},
   "outputs": [
    {
     "name": "stderr",
     "output_type": "stream",
     "text": [
      "[Stage 12:>                                                         (0 + 1) / 1]"
     ]
    },
    {
     "name": "stdout",
     "output_type": "stream",
     "text": [
      "+------------------------------------+------------------------------------+------------+------------------------------------+-------------------+---------------+------------------+-------------------+----------+-----------+\n",
      "|match_id                            |map_id                              |is_team_game|playlist_id                         |completion_date    |player_gamertag|player_total_kills|player_total_deaths|medal_id  |medal_count|\n",
      "+------------------------------------+------------------------------------+------------+------------------------------------+-------------------+---------------+------------------+-------------------+----------+-----------+\n",
      "|a4f925d4-36f8-4d45-ad4d-c2ea2ef7e487|cc040aa1-f206-11e4-a3e0-24be05e24f7e|true        |c98949ae-60a8-43dc-85d7-0feb0b92e719|2016-02-23 00:00:00|A DIABETIC LYON|10                |15                 |3261908037|6          |\n",
      "|a4f925d4-36f8-4d45-ad4d-c2ea2ef7e487|cc040aa1-f206-11e4-a3e0-24be05e24f7e|true        |c98949ae-60a8-43dc-85d7-0feb0b92e719|2016-02-23 00:00:00|A DIABETIC LYON|10                |15                 |3400287617|2          |\n",
      "|a4f925d4-36f8-4d45-ad4d-c2ea2ef7e487|cc040aa1-f206-11e4-a3e0-24be05e24f7e|true        |c98949ae-60a8-43dc-85d7-0feb0b92e719|2016-02-23 00:00:00|A DIABETIC LYON|10                |15                 |2380717523|2          |\n",
      "|a4f925d4-36f8-4d45-ad4d-c2ea2ef7e487|cc040aa1-f206-11e4-a3e0-24be05e24f7e|true        |c98949ae-60a8-43dc-85d7-0feb0b92e719|2016-02-23 00:00:00|A DIABETIC LYON|10                |15                 |1618319591|1          |\n",
      "|a4f925d4-36f8-4d45-ad4d-c2ea2ef7e487|cc040aa1-f206-11e4-a3e0-24be05e24f7e|true        |c98949ae-60a8-43dc-85d7-0feb0b92e719|2016-02-23 00:00:00|A DIABETIC LYON|10                |15                 |164204247 |1          |\n",
      "|a4f925d4-36f8-4d45-ad4d-c2ea2ef7e487|cc040aa1-f206-11e4-a3e0-24be05e24f7e|true        |c98949ae-60a8-43dc-85d7-0feb0b92e719|2016-02-23 00:00:00|A DIABETIC LYON|10                |15                 |2078758684|1          |\n",
      "|a4f925d4-36f8-4d45-ad4d-c2ea2ef7e487|cc040aa1-f206-11e4-a3e0-24be05e24f7e|true        |c98949ae-60a8-43dc-85d7-0feb0b92e719|2016-02-23 00:00:00|A DIABETIC LYON|10                |15                 |2028249938|2          |\n",
      "|a4f925d4-36f8-4d45-ad4d-c2ea2ef7e487|cc040aa1-f206-11e4-a3e0-24be05e24f7e|true        |c98949ae-60a8-43dc-85d7-0feb0b92e719|2016-02-23 00:00:00|A l u R u l z  |10                |16                 |2531822079|1          |\n",
      "|a4f925d4-36f8-4d45-ad4d-c2ea2ef7e487|cc040aa1-f206-11e4-a3e0-24be05e24f7e|true        |c98949ae-60a8-43dc-85d7-0feb0b92e719|2016-02-23 00:00:00|A l u R u l z  |10                |16                 |2078758684|1          |\n",
      "|a4f925d4-36f8-4d45-ad4d-c2ea2ef7e487|cc040aa1-f206-11e4-a3e0-24be05e24f7e|true        |c98949ae-60a8-43dc-85d7-0feb0b92e719|2016-02-23 00:00:00|A l u R u l z  |10                |16                 |2028249938|2          |\n",
      "+------------------------------------+------------------------------------+------------+------------------------------------+-------------------+---------------+------------------+-------------------+----------+-----------+\n",
      "\n"
     ]
    },
    {
     "name": "stderr",
     "output_type": "stream",
     "text": [
      "                                                                                "
     ]
    }
   ],
   "source": [
    "# register dfs as a temp view, to work with the data for analytical purposes\n",
    "df_all.createOrReplaceTempView(\"df_all\")\n",
    "maps_df.createOrReplaceTempView(\"maps_df\")\n",
    "medals_df.createOrReplaceTempView(\"medals_df\")\n",
    "\n",
    "# test df_all\n",
    "dql_1 = \"\"\"\n",
    "\n",
    "SELECT\n",
    "    *\n",
    "FROM df_all\n",
    "WHERE\n",
    "    df_all.match_id = 'a4f925d4-36f8-4d45-ad4d-c2ea2ef7e487'\n",
    "LIMIT 10\n",
    "\n",
    "\"\"\"\n",
    "\n",
    "\n",
    "spark.sql(dql_1).show(truncate=False)"
   ]
  },
  {
   "cell_type": "code",
   "execution_count": 33,
   "id": "1fd85e39-71c9-4298-8f5b-dc772cc79ba2",
   "metadata": {},
   "outputs": [
    {
     "name": "stderr",
     "output_type": "stream",
     "text": [
      "[Stage 50:=========>                                              (2 + 10) / 12]"
     ]
    },
    {
     "name": "stdout",
     "output_type": "stream",
     "text": [
      "+---------------+-----------------+\n",
      "|player_gamertag| avg_player_kills|\n",
      "+---------------+-----------------+\n",
      "|   gimpinator14|            109.0|\n",
      "|  I Johann117 I|             96.0|\n",
      "|BudgetLegendary|             83.0|\n",
      "|   TameablePoet|             82.5|\n",
      "|      GsFurreal|             75.0|\n",
      "|   Sexy is Back|             73.0|\n",
      "|     Profit TKO|70.92857142857143|\n",
      "|   killerguy789|             68.0|\n",
      "|THC GUILTYSPARK|             67.0|\n",
      "|  DBossCnDTEXAS|             66.2|\n",
      "+---------------+-----------------+\n",
      "\n"
     ]
    },
    {
     "name": "stderr",
     "output_type": "stream",
     "text": [
      "                                                                                "
     ]
    }
   ],
   "source": [
    "# get the player that averages the most kills per match\n",
    "dql_2 = \"\"\"\n",
    "\n",
    "SELECT\n",
    "    player_gamertag,\n",
    "    AVG(player_total_kills) as avg_player_kills\n",
    "FROM df_all\n",
    "GROUP BY player_gamertag\n",
    "ORDER BY avg_player_kills DESC\n",
    "LIMIT 10\n",
    "\n",
    "\"\"\"\n",
    "\n",
    "\n",
    "spark.sql(dql_2).show()"
   ]
  },
  {
   "cell_type": "code",
   "execution_count": 7,
   "id": "e677dfa0-ef3d-40ee-b079-5f4de59119eb",
   "metadata": {},
   "outputs": [
    {
     "name": "stderr",
     "output_type": "stream",
     "text": [
      "[Stage 31:====================================================>   (15 + 1) / 16]"
     ]
    },
    {
     "name": "stdout",
     "output_type": "stream",
     "text": [
      "+------------------------------------+------------+\n",
      "|playlist_id                         |times_played|\n",
      "+------------------------------------+------------+\n",
      "|f72e0ef0-7c4a-4307-af78-8e38dac3fdba|7640        |\n",
      "|2323b76a-db98-4e03-aa37-e171cfbdd1a4|3171        |\n",
      "|892189e9-d712-4bdb-afa7-1ccab43fbed4|1961        |\n",
      "|c98949ae-60a8-43dc-85d7-0feb0b92e719|1816        |\n",
      "|f27a65eb-2d11-4965-aa9c-daa088fa5c9c|682         |\n",
      "|d0766624-dbd7-4536-ba39-2d890a6143a9|618         |\n",
      "|0bcf2be1-3168-4e42-9fb5-3551d7dbce77|535         |\n",
      "|5728f612-3f20-4459-98bd-3478c79c4861|493         |\n",
      "|780cc101-005c-4fca-8ce7-6f36d7156ffe|480         |\n",
      "|355dc154-9809-4edb-8ed4-fff910c6ae9c|269         |\n",
      "+------------------------------------+------------+\n",
      "\n"
     ]
    },
    {
     "name": "stderr",
     "output_type": "stream",
     "text": [
      "                                                                                "
     ]
    }
   ],
   "source": [
    "# which playlist gets played the most\n",
    "dql_3 = \"\"\"\n",
    "WITH\n",
    "unique_matches_playlist AS (\n",
    "    SELECT\n",
    "       match_id, \n",
    "       playlist_id\n",
    "    FROM df_all\n",
    "    GROUP BY match_id, playlist_id\n",
    "\n",
    ")\n",
    "\n",
    "SELECT\n",
    "    ump.playlist_id,\n",
    "    COUNT(1) as times_played\n",
    "FROM unique_matches_playlist AS ump\n",
    "GROUP BY ump.playlist_id\n",
    "ORDER BY times_played DESC\n",
    "LIMIT 10\n",
    "\n",
    "\"\"\"\n",
    "\n",
    "\n",
    "spark.sql(dql_3).show(truncate=False)"
   ]
  },
  {
   "cell_type": "code",
   "execution_count": 12,
   "id": "deb2c875-5a4c-4f7a-9de8-4a1a7b95d722",
   "metadata": {},
   "outputs": [
    {
     "name": "stderr",
     "output_type": "stream",
     "text": [
      "[Stage 67:=================================================>      (14 + 2) / 16]"
     ]
    },
    {
     "name": "stdout",
     "output_type": "stream",
     "text": [
      "+--------------+------------+\n",
      "|map_name      |times_played|\n",
      "+--------------+------------+\n",
      "|Breakout Arena|7032        |\n",
      "|Alpine        |1358        |\n",
      "|Empire        |1347        |\n",
      "|The Rig       |1022        |\n",
      "|Truth         |970         |\n",
      "|Plaza         |949         |\n",
      "|Glacier       |922         |\n",
      "|Regret        |922         |\n",
      "|Coliseum      |904         |\n",
      "|Eden          |870         |\n",
      "+--------------+------------+\n",
      "\n"
     ]
    },
    {
     "name": "stderr",
     "output_type": "stream",
     "text": [
      "                                                                                "
     ]
    }
   ],
   "source": [
    "# which map gets played the most\n",
    "dql_4 = \"\"\"\n",
    "WITH\n",
    "unique_matches_map AS (\n",
    "    SELECT\n",
    "       match_id, \n",
    "       map_id\n",
    "    FROM df_all\n",
    "    GROUP BY match_id, map_id\n",
    "\n",
    ")\n",
    "\n",
    "SELECT\n",
    "    maps_df.name AS map_name,\n",
    "    COUNT(1) as times_played\n",
    "FROM unique_matches_map AS umm\n",
    "LEFT JOIN maps_df -- With this join in here we avoid processing extra data\n",
    "    ON maps_df.mapid = umm.map_id\n",
    "GROUP BY maps_df.name\n",
    "ORDER BY times_played DESC\n",
    "LIMIT 10\n",
    "\n",
    "\"\"\"\n",
    "\n",
    "\n",
    "spark.sql(dql_4).show(truncate=False)"
   ]
  },
  {
   "cell_type": "code",
   "execution_count": 42,
   "id": "bb2cfc6d-2e4d-4d4f-a6ed-08c4a04e1d56",
   "metadata": {},
   "outputs": [
    {
     "name": "stderr",
     "output_type": "stream",
     "text": [
      "25/08/01 02:06:01 WARN DataSourceV2Strategy: Can't translate true to source filter, unsupported expression\n"
     ]
    },
    {
     "name": "stdout",
     "output_type": "stream",
     "text": [
      "+--------------+------------------+\n",
      "|map_name      |target_medal_count|\n",
      "+--------------+------------------+\n",
      "|Breakout Arena|6553              |\n",
      "|Alpine        |4317              |\n",
      "|Glacier       |2611              |\n",
      "|Empire        |1991              |\n",
      "|Truth         |1751              |\n",
      "|The Rig       |1733              |\n",
      "|Plaza         |1654              |\n",
      "|Coliseum      |1646              |\n",
      "|Eden          |1544              |\n",
      "|Regret        |1540              |\n",
      "+--------------+------------------+\n",
      "\n"
     ]
    }
   ],
   "source": [
    "# which map players get the most 'Killing Spree' medal\n",
    "dql_5 = \"\"\"\n",
    "WITH\n",
    "target_medal_id as (\n",
    "\n",
    "    SELECT DISTINCT medal_id FROM medals_df where name = 'Killing Spree'\n",
    "),\n",
    "test AS (\n",
    "\n",
    "    SELECT\n",
    "       maps_df.name AS map_name,\n",
    "       COUNT(1) as target_medal_count\n",
    "       \n",
    "    FROM df_all \n",
    "    LEFT JOIN maps_df -- With this join in here we avoid processing extra data\n",
    "        ON maps_df.mapid = df_all.map_id\n",
    "    \n",
    "    WHERE \n",
    "        TRUE\n",
    "        -- AND df_all.match_id = '0000e3cf-727c-491a-9de8-43fe6ea611cc'\n",
    "        AND df_all.medal_id = (SELECT medal_id FROM target_medal_id)\n",
    "\n",
    "    GROUP BY map_name\n",
    "    ORDER BY COUNT(1) DESC\n",
    "\n",
    ")\n",
    "\n",
    "\n",
    "SELECT * FROM test LIMIT 10\n",
    "\n",
    "\"\"\"\n",
    "\n",
    "\n",
    "spark.sql(dql_5).show(truncate=False)"
   ]
  },
  {
   "cell_type": "markdown",
   "id": "a266ea3f-a368-4eb2-9de1-31a15a18e791",
   "metadata": {},
   "source": [
    "## sortWithinPartitions\n",
    "to see which sort gets the most compression of data\n",
    "It also helps to avoid cost of full sort"
   ]
  },
  {
   "cell_type": "code",
   "execution_count": 7,
   "id": "afe62830-1c90-4dda-a41d-c3444b146f54",
   "metadata": {},
   "outputs": [
    {
     "name": "stderr",
     "output_type": "stream",
     "text": [
      "[Stage 26:>                                                         (0 + 5) / 5]"
     ]
    },
    {
     "name": "stdout",
     "output_type": "stream",
     "text": [
      "16\n"
     ]
    }
   ],
   "source": [
    "print(df_all.rdd.getNumPartitions())"
   ]
  },
  {
   "cell_type": "code",
   "execution_count": 13,
   "id": "8deb3609-b666-4611-b002-83ffe15adb3f",
   "metadata": {},
   "outputs": [
    {
     "data": {
      "text/plain": [
       "StructType([StructField('match_id', StringType(), True), StructField('map_id', StringType(), True), StructField('is_team_game', BooleanType(), True), StructField('playlist_id', StringType(), True), StructField('completion_date', TimestampType(), True), StructField('player_gamertag', StringType(), True), StructField('player_total_kills', IntegerType(), True), StructField('player_total_deaths', IntegerType(), True), StructField('medal_id', LongType(), True), StructField('medal_count', IntegerType(), True)])"
      ]
     },
     "execution_count": 13,
     "metadata": {},
     "output_type": "execute_result"
    }
   ],
   "source": [
    "df_all.schema"
   ]
  },
  {
   "cell_type": "code",
   "execution_count": 22,
   "id": "8e096fb0-669c-4cd6-975e-f4da36862f04",
   "metadata": {},
   "outputs": [],
   "source": [
    "# create two different sortings\n",
    "\n",
    "sort_a = df_all.sortWithinPartitions('match_id','map_id')\n",
    "sort_b = df_all.sortWithinPartitions('playlist_id','map_id')\n",
    "sort_c = df_all.sortWithinPartitions('map_id','playlist_id')"
   ]
  },
  {
   "cell_type": "markdown",
   "id": "d0b25b3a-4c5b-455b-bd0c-2af81021d65b",
   "metadata": {},
   "source": [
    "ddls for creating tables for writing the data into"
   ]
  },
  {
   "cell_type": "code",
   "execution_count": 15,
   "id": "3d429ce9-2fc4-4774-b27f-723fda377f6c",
   "metadata": {},
   "outputs": [
    {
     "data": {
      "text/html": [
       "<table>\n",
       "    <thead>\n",
       "        <tr>\n",
       "        </tr>\n",
       "    </thead>\n",
       "    <tbody>\n",
       "    </tbody>\n",
       "</table>"
      ],
      "text/plain": [
       "++\n",
       "||\n",
       "++\n",
       "++"
      ]
     },
     "execution_count": 15,
     "metadata": {},
     "output_type": "execute_result"
    }
   ],
   "source": [
    "%%sql\n",
    "\n",
    "-- \n",
    "    \n",
    "CREATE TABLE IF NOT EXISTS bootcamp.all_unsorted (\n",
    "    match_id            STRING,\n",
    "    map_id              STRING,\n",
    "    is_team_game        BOOLEAN,\n",
    "    playlist_id         STRING,\n",
    "    completion_date     TIMESTAMP,\n",
    "    player_gamertag     STRING,\n",
    "    player_total_kills  INT,\n",
    "    player_total_deaths INT,\n",
    "    medal_id            BIGINT,\n",
    "    medal_count         INT\n",
    ")\n",
    "USING iceberg\n",
    "PARTITIONED BY (map_id);\n",
    "\n"
   ]
  },
  {
   "cell_type": "code",
   "execution_count": 16,
   "id": "b0792a16-9eb4-47e1-8e43-585b614c9e03",
   "metadata": {},
   "outputs": [
    {
     "data": {
      "text/html": [
       "<table>\n",
       "    <thead>\n",
       "        <tr>\n",
       "        </tr>\n",
       "    </thead>\n",
       "    <tbody>\n",
       "    </tbody>\n",
       "</table>"
      ],
      "text/plain": [
       "++\n",
       "||\n",
       "++\n",
       "++"
      ]
     },
     "execution_count": 16,
     "metadata": {},
     "output_type": "execute_result"
    }
   ],
   "source": [
    "%%sql\n",
    "\n",
    "CREATE TABLE IF NOT EXISTS bootcamp.all_sorted_a (\n",
    "    match_id            STRING,\n",
    "    map_id              STRING,\n",
    "    is_team_game        BOOLEAN,\n",
    "    playlist_id         STRING,\n",
    "    completion_date     TIMESTAMP,\n",
    "    player_gamertag     STRING,\n",
    "    player_total_kills  INT,\n",
    "    player_total_deaths INT,\n",
    "    medal_id            BIGINT,\n",
    "    medal_count         INT\n",
    ")\n",
    "USING iceberg\n",
    "PARTITIONED BY (map_id);\n"
   ]
  },
  {
   "cell_type": "code",
   "execution_count": 17,
   "id": "d344b1ba-16bd-4a79-a01a-acccde21891a",
   "metadata": {},
   "outputs": [
    {
     "data": {
      "text/html": [
       "<table>\n",
       "    <thead>\n",
       "        <tr>\n",
       "        </tr>\n",
       "    </thead>\n",
       "    <tbody>\n",
       "    </tbody>\n",
       "</table>"
      ],
      "text/plain": [
       "++\n",
       "||\n",
       "++\n",
       "++"
      ]
     },
     "execution_count": 17,
     "metadata": {},
     "output_type": "execute_result"
    }
   ],
   "source": [
    "%%sql\n",
    "    \n",
    "CREATE TABLE IF NOT EXISTS bootcamp.all_sorted_b (\n",
    "    match_id            STRING,\n",
    "    map_id              STRING,\n",
    "    is_team_game        BOOLEAN,\n",
    "    playlist_id         STRING,\n",
    "    completion_date     TIMESTAMP,\n",
    "    player_gamertag     STRING,\n",
    "    player_total_kills  INT,\n",
    "    player_total_deaths INT,\n",
    "    medal_id            BIGINT,\n",
    "    medal_count         INT\n",
    ")\n",
    "USING iceberg\n",
    "PARTITIONED BY (map_id);"
   ]
  },
  {
   "cell_type": "code",
   "execution_count": 23,
   "id": "71471bcc-0bb0-4cb4-baa3-8cae1661cca6",
   "metadata": {},
   "outputs": [
    {
     "data": {
      "text/html": [
       "<table>\n",
       "    <thead>\n",
       "        <tr>\n",
       "        </tr>\n",
       "    </thead>\n",
       "    <tbody>\n",
       "    </tbody>\n",
       "</table>"
      ],
      "text/plain": [
       "++\n",
       "||\n",
       "++\n",
       "++"
      ]
     },
     "execution_count": 23,
     "metadata": {},
     "output_type": "execute_result"
    }
   ],
   "source": [
    "%%sql\n",
    "    \n",
    "CREATE TABLE IF NOT EXISTS bootcamp.all_sorted_c (\n",
    "    match_id            STRING,\n",
    "    map_id              STRING,\n",
    "    is_team_game        BOOLEAN,\n",
    "    playlist_id         STRING,\n",
    "    completion_date     TIMESTAMP,\n",
    "    player_gamertag     STRING,\n",
    "    player_total_kills  INT,\n",
    "    player_total_deaths INT,\n",
    "    medal_id            BIGINT,\n",
    "    medal_count         INT\n",
    ")\n",
    "USING iceberg\n",
    "PARTITIONED BY (map_id);"
   ]
  },
  {
   "cell_type": "markdown",
   "id": "c83e65a4-b780-487f-8e1a-440b440cb317",
   "metadata": {},
   "source": [
    "Write the data into the tables"
   ]
  },
  {
   "cell_type": "code",
   "execution_count": 24,
   "id": "a1feae97-fdf8-498c-b4e1-b9e8bb2f6086",
   "metadata": {},
   "outputs": [
    {
     "name": "stderr",
     "output_type": "stream",
     "text": [
      "                                                                                "
     ]
    }
   ],
   "source": [
    "df_all.write.mode('overwrite').saveAsTable('bootcamp.all_unsorted')\n",
    "sort_a.write.mode('overwrite').saveAsTable('bootcamp.all_sorted_a')\n",
    "sort_b.write.mode('overwrite').saveAsTable('bootcamp.all_sorted_b')\n",
    "sort_c.write.mode('overwrite').saveAsTable('bootcamp.all_sorted_c')"
   ]
  },
  {
   "cell_type": "code",
   "execution_count": 25,
   "id": "6addfea5-540e-4961-a212-364663ff7ee5",
   "metadata": {},
   "outputs": [
    {
     "data": {
      "text/html": [
       "<table>\n",
       "    <thead>\n",
       "        <tr>\n",
       "            <th>size</th>\n",
       "            <th>num_files</th>\n",
       "            <th>unsorted</th>\n",
       "        </tr>\n",
       "    </thead>\n",
       "    <tbody>\n",
       "        <tr>\n",
       "            <td>6866561</td>\n",
       "            <td>16</td>\n",
       "            <td>unsorted</td>\n",
       "        </tr>\n",
       "        <tr>\n",
       "            <td>6866561</td>\n",
       "            <td>16</td>\n",
       "            <td>sorted_a</td>\n",
       "        </tr>\n",
       "        <tr>\n",
       "            <td>6387482</td>\n",
       "            <td>16</td>\n",
       "            <td>sorted_b</td>\n",
       "        </tr>\n",
       "        <tr>\n",
       "            <td>6414459</td>\n",
       "            <td>16</td>\n",
       "            <td>sorted_c</td>\n",
       "        </tr>\n",
       "    </tbody>\n",
       "</table>"
      ],
      "text/plain": [
       "+---------+-----------+----------+\n",
       "|    size | num_files | unsorted |\n",
       "+---------+-----------+----------+\n",
       "| 6866561 |        16 | unsorted |\n",
       "| 6866561 |        16 | sorted_a |\n",
       "| 6387482 |        16 | sorted_b |\n",
       "| 6414459 |        16 | sorted_c |\n",
       "+---------+-----------+----------+"
      ]
     },
     "execution_count": 25,
     "metadata": {},
     "output_type": "execute_result"
    }
   ],
   "source": [
    "%%sql\n",
    "\n",
    "SELECT SUM(file_size_in_bytes) as size, COUNT(1) as num_files, 'unsorted' \n",
    "FROM demo.bootcamp.all_unsorted.files\n",
    "\n",
    "UNION ALL\n",
    "SELECT SUM(file_size_in_bytes) as size, COUNT(1) as num_files, 'sorted_a' \n",
    "FROM demo.bootcamp.all_sorted_a.files\n",
    "UNION ALL\n",
    "SELECT SUM(file_size_in_bytes) as size, COUNT(1) as num_files, 'sorted_b' \n",
    "FROM demo.bootcamp.all_sorted_b.files\n",
    "UNION ALL\n",
    "SELECT SUM(file_size_in_bytes) as size, COUNT(1) as num_files, 'sorted_c' \n",
    "FROM demo.bootcamp.all_sorted_c.files\n"
   ]
  },
  {
   "cell_type": "markdown",
   "id": "6d00a760-61c7-40bb-ac52-de0abe63be92",
   "metadata": {},
   "source": [
    "sorted_b got us a compression of about 7%\n"
   ]
  },
  {
   "cell_type": "code",
   "execution_count": null,
   "id": "58d8ce3e-73ff-4cfa-a9b0-9a98c45b7adb",
   "metadata": {},
   "outputs": [],
   "source": []
  },
  {
   "cell_type": "code",
   "execution_count": null,
   "id": "6ccbe101-6894-40e5-a49d-c60c8d317068",
   "metadata": {},
   "outputs": [],
   "source": []
  },
  {
   "cell_type": "code",
   "execution_count": null,
   "id": "a7ee5233-c251-433e-ad23-ba1827b2566b",
   "metadata": {},
   "outputs": [],
   "source": []
  },
  {
   "cell_type": "code",
   "execution_count": null,
   "id": "88e5c257-8426-4970-a752-de2ef24f3bbc",
   "metadata": {},
   "outputs": [],
   "source": []
  }
 ],
 "metadata": {
  "kernelspec": {
   "display_name": "Python 3 (ipykernel)",
   "language": "python",
   "name": "python3"
  },
  "language_info": {
   "codemirror_mode": {
    "name": "ipython",
    "version": 3
   },
   "file_extension": ".py",
   "mimetype": "text/x-python",
   "name": "python",
   "nbconvert_exporter": "python",
   "pygments_lexer": "ipython3",
   "version": "3.10.16"
  }
 },
 "nbformat": 4,
 "nbformat_minor": 5
}
